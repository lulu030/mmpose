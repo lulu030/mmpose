{
 "cells": [
  {
   "cell_type": "markdown",
   "metadata": {},
   "source": [
    "### Installation\n",
    "#### Prerequisites"
   ]
  },
  {
   "cell_type": "code",
   "execution_count": 8,
   "metadata": {},
   "outputs": [
    {
     "ename": "SyntaxError",
     "evalue": "invalid syntax (1840354667.py, line 2)",
     "output_type": "error",
     "traceback": [
      "\u001b[1;36m  Cell \u001b[1;32mIn[8], line 2\u001b[1;36m\u001b[0m\n\u001b[1;33m    conda create --name openmmlab python=3.8 -y\u001b[0m\n\u001b[1;37m          ^\u001b[0m\n\u001b[1;31mSyntaxError\u001b[0m\u001b[1;31m:\u001b[0m invalid syntax\n"
     ]
    }
   ],
   "source": [
    "# Step 1. Create a conda environment and activate it\n",
    "conda create --name openmmlab python=3.8 -y\n",
    "conda activate openmmlab"
   ]
  },
  {
   "cell_type": "code",
   "execution_count": null,
   "metadata": {},
   "outputs": [],
   "source": [
    "# Step 2. Install Pytorch (CUDA 11.8)\n",
    "# conda install pytorch==2.0.1 torchvision==0.15.2 torchaudio==2.0.2 pytorch-cuda=11.8 -c pytorch -c nvidia"
   ]
  },
  {
   "cell_type": "code",
   "execution_count": 1,
   "metadata": {},
   "outputs": [
    {
     "name": "stdout",
     "output_type": "stream",
     "text": [
      "Current Directory: c:\\Users\\ckim0024\\Project\\mmpose\n"
     ]
    }
   ],
   "source": [
    "import os\n",
    "\n",
    "print(\"Current Directory:\", os.getcwd())"
   ]
  },
  {
   "cell_type": "code",
   "execution_count": 2,
   "metadata": {},
   "outputs": [
    {
     "name": "stdout",
     "output_type": "stream",
     "text": [
      "2.0.1+cu118\n",
      "11.8\n",
      "True\n"
     ]
    }
   ],
   "source": [
    "import torch\n",
    "print(torch.__version__)\n",
    "print(torch.version.cuda)\n",
    "print(torch.cuda.is_available())\n"
   ]
  },
  {
   "cell_type": "code",
   "execution_count": null,
   "metadata": {},
   "outputs": [],
   "source": [
    "# Step 3. Install MMEngine and MMCV using MIM.\n",
    "!pip install -U openmim\n",
    "!mim install mmengine\n",
    "!mim install \"mmcv<2.2.0\" \n",
    "\n",
    "# Note that some of the demo scrips in MMPose require MMDetection (mmdet) for human detection.\n",
    "#!mim install \"mmdet<=3.3.0\""
   ]
  },
  {
   "cell_type": "markdown",
   "metadata": {},
   "source": [
    "#### Build MMPose from source"
   ]
  },
  {
   "cell_type": "code",
   "execution_count": null,
   "metadata": {},
   "outputs": [],
   "source": [
    "#!pip install -r requirements.txt\n",
    "#!pip install -v -e .\n",
    "!mim install \"mmpose>=1.1.0\""
   ]
  },
  {
   "cell_type": "markdown",
   "metadata": {},
   "source": [
    "#### Verify the installation"
   ]
  },
  {
   "cell_type": "markdown",
   "metadata": {},
   "source": [
    "1. download config and checkpoint files"
   ]
  },
  {
   "cell_type": "code",
   "execution_count": null,
   "metadata": {},
   "outputs": [],
   "source": [
    "!mim download mmpose --config td-hm_hrnet-w48_8xb32-210e_coco-256x192  --dest ."
   ]
  },
  {
   "cell_type": "markdown",
   "metadata": {},
   "source": [
    "2. run the reference demo"
   ]
  },
  {
   "cell_type": "code",
   "execution_count": null,
   "metadata": {},
   "outputs": [
    {
     "name": "stdout",
     "output_type": "stream",
     "text": [
      "Loads checkpoint by local backend from path: td-hm_hrnet-w48_8xb32-210e_coco-256x192-0e67c616_20220913.pth\n",
      "07/01 12:25:49 - mmengine - \u001b[4m\u001b[97mINFO\u001b[0m - the output image has been saved at vis_results.jpg\n"
     ]
    }
   ],
   "source": [
    "!python demo/image_demo.py \\\n",
    "    tests/data/coco/000000000785.jpg \\\n",
    "    td-hm_hrnet-w48_8xb32-210e_coco-256x192.py \\\n",
    "    td-hm_hrnet-w48_8xb32-210e_coco-256x192-0e67c616_20220913.pth \\\n",
    "    --out-file vis_results.jpg \\\n",
    "    --draw-heatmap"
   ]
  },
  {
   "cell_type": "markdown",
   "metadata": {},
   "source": [
    "### Functions"
   ]
  },
  {
   "cell_type": "code",
   "execution_count": 8,
   "metadata": {},
   "outputs": [],
   "source": [
    "import os\n",
    "def list_files(directory,type):\n",
    "    \"\"\"\n",
    "    This function takes a directory path as input and returns a list of all mp4 file names in that directory.\n",
    "    \"\"\"\n",
    "    files = []\n",
    "    for file_name in os.listdir(directory):\n",
    "        if file_name.endswith(type):\n",
    "            files.append(file_name)\n",
    "    return files"
   ]
  },
  {
   "cell_type": "code",
   "execution_count": 9,
   "metadata": {},
   "outputs": [],
   "source": [
    "import cv2\n",
    "\n",
    "def rotate_video(input_video_path, output_video_path):\n",
    "    cap = cv2.VideoCapture(input_video_path)\n",
    "\n",
    "    # 비디오 프레임의 속성 읽기\n",
    "    width = int(cap.get(cv2.CAP_PROP_FRAME_WIDTH))\n",
    "    height = int(cap.get(cv2.CAP_PROP_FRAME_HEIGHT))\n",
    "    fps = cap.get(cv2.CAP_PROP_FPS)\n",
    "\n",
    "    # 새로운 비디오 파일 작성\n",
    "    fourcc = cv2.VideoWriter_fourcc(*'mp4v')  # 코덱 설정\n",
    "    out = cv2.VideoWriter(output_video_path, fourcc, fps, (height, width))  # 회전 후의 가로, 세로 설정\n",
    "\n",
    "    while cap.isOpened():\n",
    "        ret, frame = cap.read()\n",
    "        if not ret:\n",
    "            break\n",
    "\n",
    "        # 프레임을 반시계 방향으로 90도 회전\n",
    "        rotated_frame = cv2.rotate(frame, cv2.ROTATE_90_COUNTERCLOCKWISE)\n",
    "\n",
    "        # 새로운 비디오 파일에 회전된 프레임 저장\n",
    "        out.write(rotated_frame)\n",
    "\n",
    "    cap.release()\n",
    "    out.release()\n",
    "    print(f\"Video has been rotated and saved to {output_video_path}\")\n"
   ]
  },
  {
   "cell_type": "code",
   "execution_count": 4,
   "metadata": {},
   "outputs": [],
   "source": [
    "import json\n",
    "import cv2\n",
    "import matplotlib.pyplot as plt\n",
    "from mpl_toolkits.mplot3d import Axes3D\n",
    "import numpy as np\n",
    "\n",
    "# JSON 파일에서 keypoints 추출 함수\n",
    "def extract_3dkeypoints(json_file):\n",
    "    with open(json_file, 'r') as file:\n",
    "        data = json.load(file)\n",
    "\n",
    "    meta_info = data['meta_info']\n",
    "    instance_info = data['instance_info']\n",
    "\n",
    "    num_keypoints = meta_info['num_keypoints']\n",
    "    keypoint_id2name = meta_info['keypoint_id2name']\n",
    "    keypoints_data = {keypoint_id2name[str(kp)]: {'x': [], 'y': [], 'z': []} for kp in range(num_keypoints)}\n",
    "\n",
    "    for frame in instance_info:\n",
    "        for kp_id, kp_name in keypoint_id2name.items():\n",
    "            kp = frame['instances'][0]['keypoints'][int(kp_id)]\n",
    "            keypoints_data[kp_name]['x'].append(kp[0])\n",
    "            keypoints_data[kp_name]['y'].append(kp[1])\n",
    "            keypoints_data[kp_name]['z'].append(kp[2])\n",
    "\n",
    "    return keypoints_data, len(instance_info), list(keypoint_id2name.values())\n",
    "\n"
   ]
  },
  {
   "cell_type": "markdown",
   "metadata": {},
   "source": [
    "### Run with Inferencer"
   ]
  },
  {
   "cell_type": "markdown",
   "metadata": {},
   "source": [
    "1 . 3D Human Pose Estimation"
   ]
  },
  {
   "cell_type": "markdown",
   "metadata": {},
   "source": [
    "1.1. image"
   ]
  },
  {
   "cell_type": "code",
   "execution_count": 3,
   "metadata": {},
   "outputs": [
    {
     "name": "stdout",
     "output_type": "stream",
     "text": [
      "Loads checkpoint by http backend from path: https://download.openmmlab.com/mmpose/v1/body_3d_keypoint/pose_lift/h36m/motionbert_ft_h36m-d80af323_20230531.pth\n",
      "07/12 21:59:37 - mmengine - \u001b[5m\u001b[4m\u001b[33mWARNING\u001b[0m - Failed to search registry with scope \"mmpose\" in the \"function\" registry tree. As a workaround, the current \"function\" registry in \"mmengine\" is used to build instance. This may cause unexpected failure when running the built modules. Please check whether \"mmpose\" is a correct scope, or whether the registry is initialized.\n",
      "Loads checkpoint by http backend from path: https://download.openmmlab.com/mmpose/v1/projects/rtmposev1/rtmpose-m_simcc-body7_pt-body7_420e-256x192-e48f03d0_20230504.pth\n",
      "Loads checkpoint by http backend from path: https://download.openmmlab.com/mmpose/v1/projects/rtmposev1/rtmdet_m_8xb32-100e_coco-obj365-person-235e8209.pth\n",
      "07/12 21:59:40 - mmengine - \u001b[5m\u001b[4m\u001b[33mWARNING\u001b[0m - Failed to search registry with scope \"mmdet\" in the \"function\" registry tree. As a workaround, the current \"function\" registry in \"mmengine\" is used to build instance. This may cause unexpected failure when running the built modules. Please check whether \"mmdet\" is a correct scope, or whether the registry is initialized.\n"
     ]
    },
    {
     "name": "stderr",
     "output_type": "stream",
     "text": [
      "c:\\Users\\ckim0024\\AppData\\Local\\anaconda3\\envs\\openmmlab\\lib\\site-packages\\torch\\functional.py:504: UserWarning: torch.meshgrid: in an upcoming release, it will be required to pass the indexing argument. (Triggered internally at C:\\actions-runner\\_work\\pytorch\\pytorch\\builder\\windows\\pytorch\\aten\\src\\ATen\\native\\TensorShape.cpp:3484.)\n",
      "  return _VF.meshgrid(tensors, **kwargs)  # type: ignore[attr-defined]\n"
     ]
    },
    {
     "name": "stdout",
     "output_type": "stream",
     "text": [
      "07/12 21:59:42 - mmengine - \u001b[4m\u001b[97mINFO\u001b[0m - the output image has been saved at output/visualizations\\pbt_frame01.jpg\n"
     ]
    }
   ],
   "source": [
    "from mmpose.apis import MMPoseInferencer\n",
    "import os\n",
    "os.environ['KMP_DUPLICATE_LIB_OK']='True'\n",
    "\n",
    "# build the inferencer with 3d model alias\n",
    "inferencer = MMPoseInferencer(pose3d=\"human3d\")\n",
    "\n",
    "# build the inferencer with 3d model config name\n",
    "#inferencer = MMPoseInferencer(pose3d=\"motionbert_dstformer-ft-243frm_8xb32-120e_h36m\")\n",
    "\n",
    "# # build the inferencer with 3d model config path and checkpoint path/URL\n",
    "# inferencer = MMPoseInferencer(\n",
    "#     pose3d='configs/body_3d_keypoint/motionbert/h36m/motionbert_dstformer-ft-243frm_8xb32-120e_h36m.py',\n",
    "#     pose3d_weights='https://download.openmmlab.com/mmpose/v1/body_3d_keypoint/pose_lift/h36m/motionbert_ft_h36m-d80af323_20230531.pth'\n",
    "# )\n",
    "\n",
    "result_generator = inferencer('data/pbt_frame01.jpg', out_dir='output')\n",
    "result = next(result_generator)"
   ]
  },
  {
   "cell_type": "markdown",
   "metadata": {},
   "source": [
    "1.2. video"
   ]
  },
  {
   "cell_type": "code",
   "execution_count": 16,
   "metadata": {},
   "outputs": [
    {
     "name": "stdout",
     "output_type": "stream",
     "text": [
      "Loads checkpoint by http backend from path: https://download.openmmlab.com/mmpose/v1/projects/rtmpose/rtmdet_m_8xb32-100e_coco-obj365-person-235e8209.pth\n",
      "Loads checkpoint by http backend from path: https://download.openmmlab.com/mmpose/v1/projects/rtmposev1/rtmpose-m_simcc-body7_pt-body7_420e-256x192-e48f03d0_20230504.pth\n",
      "Loads checkpoint by http backend from path: https://download.openmmlab.com/mmpose/body3d/videopose/videopose_h36m_243frames_fullconv_supervised_cpn_ft-88f5abbb_20210527.pth\n",
      "predictions have been saved at vis_results/results_rotated_center_yz.json\n",
      "07/17 16:54:27 - mmengine - \u001b[4m\u001b[97mINFO\u001b[0m - the output video has been saved at vis_results\\rotated_center_yz.mp4\n"
     ]
    },
    {
     "name": "stderr",
     "output_type": "stream",
     "text": [
      "c:\\Users\\ckim0024\\AppData\\Local\\anaconda3\\envs\\openmmlab\\lib\\site-packages\\scipy\\__init__.py:146: UserWarning: A NumPy version >=1.16.5 and <1.23.0 is required for this version of SciPy (detected version 1.24.4\n",
      "  warnings.warn(f\"A NumPy version >={np_minversion} and <{np_maxversion}\"\n",
      "c:\\Users\\ckim0024\\AppData\\Local\\anaconda3\\envs\\openmmlab\\lib\\site-packages\\torch\\functional.py:504: UserWarning: torch.meshgrid: in an upcoming release, it will be required to pass the indexing argument. (Triggered internally at C:\\actions-runner\\_work\\pytorch\\pytorch\\builder\\windows\\pytorch\\aten\\src\\ATen\\native\\TensorShape.cpp:3484.)\n",
      "  return _VF.meshgrid(tensors, **kwargs)  # type: ignore[attr-defined]\n"
     ]
    }
   ],
   "source": [
    "!python demo/body3d_pose_lifter_demo.py  \\\n",
    "demo/mmdetection_cfg/rtmdet_m_640-8xb32_coco-person.py \\\n",
    "https://download.openmmlab.com/mmpose/v1/projects/rtmpose/rtmdet_m_8xb32-100e_coco-obj365-person-235e8209.pth \\\n",
    "configs/body_2d_keypoint/rtmpose/body8/rtmpose-m_8xb256-420e_body8-256x192.py \\\n",
    "https://download.openmmlab.com/mmpose/v1/projects/rtmposev1/rtmpose-m_simcc-body7_pt-body7_420e-256x192-e48f03d0_20230504.pth \\\n",
    "configs/body_3d_keypoint/video_pose_lift/h36m/video-pose-lift_tcn-243frm-supv-cpn-ft_8xb128-200e_h36m.py \\\n",
    "https://download.openmmlab.com/mmpose/body3d/videopose/videopose_h36m_243frames_fullconv_supervised_cpn_ft-88f5abbb_20210527.pth  \\\n",
    "--input C:\\Users\\ckim0024\\Project\\mmpose\\data\\static\\rotated\\rotated_center_yz.mp4 \\\n",
    "--output-root  vis_results \\\n",
    "--save-predictions"
   ]
  },
  {
   "cell_type": "code",
   "execution_count": 6,
   "metadata": {},
   "outputs": [],
   "source": [
    "from mmpose.apis import MMPoseInferencer\n",
    "import cv2\n",
    "import os\n",
    "os.environ['KMP_DUPLICATE_LIB_OK']='True'\n",
    "\n",
    "def run_3dhuman_vid(input_vid_path):\n",
    "    inferencer = MMPoseInferencer(pose3d='human3d')\n",
    "    result_generator = inferencer(input_vid_path, show=False, out_dir='output')\n",
    "    results = [result for result in result_generator]"
   ]
  },
  {
   "cell_type": "code",
   "execution_count": null,
   "metadata": {},
   "outputs": [],
   "source": [
    "# Process Video\n",
    "mp4_path = r'C:\\Users\\ckim0024\\Project\\mmpose\\data\\static' #r'C:\\Users\\ckim0024\\Project\\mmpose\\data' #\n",
    "mp4_files = list_files(mp4_path,'.mp4')\n",
    "print(mp4_files)\n",
    "\n",
    "rotated_mp4_path = os.path.join(mp4_path, 'rotated')\n",
    "if not os.path.exists(rotated_mp4_path):\n",
    "    os.makedirs(rotated_mp4_path)\n",
    "    print(f\"Directory '{rotated_mp4_path}' created.\")\n",
    "\n",
    "for mp4_file in mp4_files:\n",
    "    input_mp4 = os.path.join(mp4_path,mp4_file)\n",
    "    output_mp4 = os.path.join(rotated_mp4_path, 'rotated_'+mp4_file)\n",
    "    rotate_video(input_mp4, output_mp4)"
   ]
  },
  {
   "cell_type": "code",
   "execution_count": 14,
   "metadata": {},
   "outputs": [
    {
     "name": "stdout",
     "output_type": "stream",
     "text": [
      "Loads checkpoint by http backend from path: https://download.openmmlab.com/mmpose/v1/body_3d_keypoint/pose_lift/h36m/motionbert_ft_h36m-d80af323_20230531.pth\n",
      "Loads checkpoint by http backend from path: https://download.openmmlab.com/mmpose/v1/projects/rtmposev1/rtmpose-m_simcc-body7_pt-body7_420e-256x192-e48f03d0_20230504.pth\n",
      "Loads checkpoint by http backend from path: https://download.openmmlab.com/mmpose/v1/projects/rtmposev1/rtmdet_m_8xb32-100e_coco-obj365-person-235e8209.pth\n",
      "07/17 15:40:07 - mmengine - \u001b[4m\u001b[97mINFO\u001b[0m - the output video has been saved at output/visualizations\\rotated_center_yz.mp4\n",
      "Loads checkpoint by http backend from path: https://download.openmmlab.com/mmpose/v1/body_3d_keypoint/pose_lift/h36m/motionbert_ft_h36m-d80af323_20230531.pth\n",
      "Loads checkpoint by http backend from path: https://download.openmmlab.com/mmpose/v1/projects/rtmposev1/rtmpose-m_simcc-body7_pt-body7_420e-256x192-e48f03d0_20230504.pth\n",
      "Loads checkpoint by http backend from path: https://download.openmmlab.com/mmpose/v1/projects/rtmposev1/rtmdet_m_8xb32-100e_coco-obj365-person-235e8209.pth\n",
      "07/17 15:40:30 - mmengine - \u001b[4m\u001b[97mINFO\u001b[0m - the output video has been saved at output/visualizations\\rotated_left wrest_xy.mp4\n",
      "Loads checkpoint by http backend from path: https://download.openmmlab.com/mmpose/v1/body_3d_keypoint/pose_lift/h36m/motionbert_ft_h36m-d80af323_20230531.pth\n",
      "Loads checkpoint by http backend from path: https://download.openmmlab.com/mmpose/v1/projects/rtmposev1/rtmpose-m_simcc-body7_pt-body7_420e-256x192-e48f03d0_20230504.pth\n",
      "Loads checkpoint by http backend from path: https://download.openmmlab.com/mmpose/v1/projects/rtmposev1/rtmdet_m_8xb32-100e_coco-obj365-person-235e8209.pth\n",
      "07/17 15:40:52 - mmengine - \u001b[4m\u001b[97mINFO\u001b[0m - the output video has been saved at output/visualizations\\rotated_right_xz.mp4\n"
     ]
    }
   ],
   "source": [
    "# run\n",
    "input_videos = list_files(rotated_mp4_path,'.mp4')\n",
    "for input_vid in input_videos:\n",
    "    input = os.path.join(rotated_mp4_path,input_vid)\n",
    "    if input_vid == 'rotated_bring to eye.mp4':\n",
    "        continue\n",
    "    else:\n",
    "        run_3dhuman_vid(input)"
   ]
  },
  {
   "cell_type": "markdown",
   "metadata": {},
   "source": [
    "### Plot"
   ]
  },
  {
   "cell_type": "markdown",
   "metadata": {},
   "source": [
    "- one frame"
   ]
  },
  {
   "cell_type": "code",
   "execution_count": 99,
   "metadata": {},
   "outputs": [],
   "source": [
    "# 키포인트 추출\n",
    "import json\n",
    "import matplotlib.pyplot as plt\n",
    "from mpl_toolkits.mplot3d import Axes3D\n",
    "\n",
    "def plot_3dkeypoints(json_file, type='image', frame_number=None, space_size= None):\n",
    "    # JSON 데이터 로드 및 키포인트 추출\n",
    "    if type == 'image':\n",
    "        keypoints = json.load(open(json_file))[0]['keypoints']\n",
    "    elif type == 'video':\n",
    "        keypoints = json.load(open(json_file))[frame_number]['instances'][0]['keypoints']\n",
    "    \n",
    "    # 공간 크기에 맞게 좌표 스케일링\n",
    "    x = [-kp[0] * (space_size[0] / 2) for kp in keypoints]\n",
    "    y = [kp[1] * (space_size[1] / 2) for kp in keypoints]\n",
    "    z = [kp[2] * space_size[2] for kp in keypoints]\n",
    "\n",
    "    # 3D 플롯 생성\n",
    "    fig = plt.figure()\n",
    "    ax = fig.add_subplot(111, projection='3d')\n",
    "    \n",
    "    # 키포인트 플로팅\n",
    "    ax.scatter(x, y, z, c='r', marker='o')\n",
    "    \n",
    "    # 축 레이블 설정\n",
    "    ax.set_xlabel('X Label')\n",
    "    ax.set_ylabel('Y Label')\n",
    "    ax.set_zlabel('Z Label')\n",
    "    \n",
    "    # 축 범위 설정 (실제 공간 사이즈에 맞게 조정)\n",
    "    ax.set_xlim([-space_size[0] / 2, space_size[0] / 2])\n",
    "    ax.set_ylim([-space_size[1] / 2, space_size[1] / 2])\n",
    "    ax.set_zlim([0, space_size[2]])\n",
    "    plt.show()\n",
    "\n"
   ]
  },
  {
   "cell_type": "code",
   "execution_count": 108,
   "metadata": {},
   "outputs": [
    {
     "data": {
      "image/png": "[encoded data removed]",
      "text/plain": [
       "<Figure size 640x480 with 1 Axes>"
      ]
     },
     "metadata": {},
     "output_type": "display_data"
    }
   ],
   "source": [
    "json_file = r'C:\\Users\\ckim0024\\Project\\mmpose\\output\\predictions\\prep_bright_tap_3d.json'\n",
    "plot_3dkeypoints(json_file,'video',1000, space_size = (180, 240, 380))"
   ]
  },
  {
   "cell_type": "markdown",
   "metadata": {},
   "source": [
    "- all frames (video)"
   ]
  },
  {
   "cell_type": "code",
   "execution_count": 2,
   "metadata": {},
   "outputs": [],
   "source": [
    "import json\n",
    "import matplotlib.pyplot as plt\n",
    "from mpl_toolkits.mplot3d import Axes3D\n",
    "from matplotlib.animation import FuncAnimation\n",
    "import ffmpeg\n",
    "\n",
    "def plot_3dkeypoints(ax, keypoints, space_size):\n",
    "    # 공간 크기에 맞게 좌표 스케일링\n",
    "    x = [-kp[0] * (space_size[0] / 2) for kp in keypoints]\n",
    "    y = [kp[1] * (space_size[1] / 2) for kp in keypoints]\n",
    "    z = [kp[2] * space_size[2] for kp in keypoints]\n",
    "    \n",
    "    # 키포인트 플로팅\n",
    "    ax.scatter(x, y, z, c='r', marker='o')\n",
    "    ax.set_xlabel('X Label')\n",
    "    ax.set_ylabel('Y Label')\n",
    "    ax.set_zlabel('Z Label')\n",
    "    ax.set_xlim([-space_size[0] / 2, space_size[0] / 2])\n",
    "    ax.set_ylim([-space_size[1] / 2, space_size[1] / 2])\n",
    "    ax.set_zlim([0, space_size[2]])\n",
    "\n",
    "def update(frame_number, json_data, ax, space_size):\n",
    "    ax.cla()\n",
    "    keypoints = json_data[frame_number]['instances'][0]['keypoints']\n",
    "    plot_3dkeypoints(ax, keypoints, space_size)\n",
    "\n",
    "def create_video_from_keypoints(json_file, output_file, space_size):\n",
    "    with open(json_file) as f:\n",
    "        json_data = json.load(f)\n",
    "    \n",
    "    fig = plt.figure()\n",
    "    ax = fig.add_subplot(111, projection='3d')\n",
    "    \n",
    "    anim = FuncAnimation(fig, update, frames=len(json_data), fargs=(json_data, ax, space_size))\n",
    "    anim.save(output_file, fps=100, extra_args=['-vcodec', 'libx264'])\n",
    "    plt.close()\n",
    "\n",
    "# 예제 사용법\n",
    "json_file = r'C:\\Users\\ckim0024\\Project\\mmpose\\output\\predictions\\prep_bright_tap_3d.json'\n",
    "output_file = r'C:\\Users\\ckim0024\\Project\\mmpose\\output\\visualizations\\prep_bright_tap_manual.mp4'\n",
    "space_size = (180, 240, 380)\n",
    "create_video_from_keypoints(json_file, output_file, space_size)\n"
   ]
  },
  {
   "cell_type": "code",
   "execution_count": 12,
   "metadata": {},
   "outputs": [],
   "source": [
    "import json\n",
    "import matplotlib.pyplot as plt\n",
    "import json\n",
    "import matplotlib.pyplot as plt\n",
    "from mpl_toolkits.mplot3d import Axes3D\n",
    "from matplotlib.animation import FuncAnimation\n",
    "import cv2\n",
    "\n",
    "def plot_3dkeypoints(ax, keypoints, space_size):\n",
    "    # 공간 크기에 맞게 좌표 스케일링\n",
    "    x = [-kp[0] * (space_size[0] / 2) for kp in keypoints]\n",
    "    y = [kp[1] * (space_size[1] / 2) for kp in keypoints]\n",
    "    z = [kp[2] * space_size[2] for kp in keypoints]\n",
    "    \n",
    "    # 키포인트 플로팅\n",
    "    ax.scatter(x, y, z, c='r', marker='o')\n",
    "    ax.set_xlabel('X Label')\n",
    "    ax.set_ylabel('Y Label')\n",
    "    ax.set_zlabel('Z Label')\n",
    "    ax.set_xlim([-space_size[0] / 2, space_size[0] / 2])\n",
    "    ax.set_ylim([-space_size[1] / 2, space_size[1] / 2])\n",
    "    ax.set_zlim([0, space_size[2]])\n",
    "\n",
    "def update(frame_number, json_data, ax1, ax2, space_size, video_cap):\n",
    "    ax1.cla()\n",
    "    ax2.cla()\n",
    "    \n",
    "    # 원본 영상 표시 (반시계방향으로 90도 회전)\n",
    "    video_cap.set(cv2.CAP_PROP_POS_FRAMES, frame_number)\n",
    "    ret, frame = video_cap.read()\n",
    "    if ret:\n",
    "        frame = cv2.rotate(frame, cv2.ROTATE_90_COUNTERCLOCKWISE)\n",
    "        ax1.imshow(cv2.cvtColor(frame, cv2.COLOR_BGR2RGB))\n",
    "        ax1.axis('off')\n",
    "    \n",
    "    # 키포인트 표시\n",
    "    keypoints = json_data[frame_number]['instances'][0]['keypoints']\n",
    "    plot_3dkeypoints(ax2, keypoints, space_size)\n",
    "\n",
    "def create_video_from_keypoints(json_file, video_file, output_file, space_size):\n",
    "    with open(json_file) as f:\n",
    "        json_data = json.load(f)\n",
    "    \n",
    "    video_cap = cv2.VideoCapture(video_file)\n",
    "    frame_count = int(video_cap.get(cv2.CAP_PROP_FRAME_COUNT))\n",
    "    \n",
    "    fig = plt.figure(figsize=(10, 5))\n",
    "    ax1 = fig.add_subplot(121)\n",
    "    ax2 = fig.add_subplot(122, projection='3d')\n",
    "    \n",
    "    anim = FuncAnimation(fig, update, frames=frame_count, fargs=(json_data, ax1, ax2, space_size, video_cap))\n",
    "    anim.save(output_file, fps=100, extra_args=['-vcodec', 'libx264'])\n",
    "    plt.close()\n",
    "    video_cap.release()\n",
    "\n",
    "\n",
    "# 예제 사용법\n",
    "json_file = r'C:\\Users\\ckim0024\\Project\\mmpose\\output\\predictions\\prep_bright_tap_3d.json'\n",
    "output_file = r'C:\\Users\\ckim0024\\Project\\mmpose\\output\\visualizations\\prep_bright_tap_both.mp4'\n",
    "video_file = r'C:\\Users\\ckim0024\\Project\\mmpose\\data\\bright_tap.mp4'\n",
    "\n",
    "space_size = (180, 240, 380)\n",
    "create_video_from_keypoints(json_file, video_file, output_file, space_size)\n"
   ]
  },
  {
   "cell_type": "markdown",
   "metadata": {},
   "source": [
    "make gif"
   ]
  },
  {
   "cell_type": "code",
   "execution_count": 4,
   "metadata": {},
   "outputs": [],
   "source": [
    "from moviepy.editor import *\n",
    "clip = (VideoFileClip(r\"C:\\Users\\ckim0024\\Project\\mmpose\\output\\visualizations\\prep_bright_tap_manual.mp4\"))\n",
    "clip.write_gif(r\"C:\\Users\\ckim0024\\Project\\mmpose\\output\\visualizations\\prep_bright_tap_manual.gif\", fps=200) #초당 15프레임으로 설정합니다\n"
   ]
  },
  {
   "cell_type": "markdown",
   "metadata": {},
   "source": [
    "180(width) x240(height)x 300(height)"
   ]
  },
  {
   "cell_type": "markdown",
   "metadata": {},
   "source": [
    "2 . 2D Human Pose Estimation"
   ]
  },
  {
   "cell_type": "markdown",
   "metadata": {},
   "source": [
    "- inferencer"
   ]
  },
  {
   "cell_type": "code",
   "execution_count": 49,
   "metadata": {},
   "outputs": [
    {
     "name": "stdout",
     "output_type": "stream",
     "text": [
      "Loads checkpoint by http backend from path: https://download.openmmlab.com/mmpose/top_down/hrnet/hrnet_w32_coco_256x192-c78dce93_20200708.pth\n"
     ]
    },
    {
     "name": "stderr",
     "output_type": "stream",
     "text": [
      "Downloading: \"https://download.openmmlab.com/mmpose/top_down/hrnet/hrnet_w32_coco_256x192-c78dce93_20200708.pth\" to C:\\Users\\ckim0024/.cache\\torch\\hub\\checkpoints\\hrnet_w32_coco_256x192-c78dce93_20200708.pth\n"
     ]
    },
    {
     "name": "stdout",
     "output_type": "stream",
     "text": [
      "07/12 23:14:28 - mmengine - \u001b[5m\u001b[4m\u001b[33mWARNING\u001b[0m - dataset_meta are not saved in the checkpoint's meta data, load via config.\n",
      "Loads checkpoint by http backend from path: https://download.openmmlab.com/mmpose/v1/projects/rtmposev1/rtmdet_m_8xb32-100e_coco-obj365-person-235e8209.pth\n"
     ]
    }
   ],
   "source": [
    "# # build the inferencer with model alias\n",
    "# inferencer = MMPoseInferencer('human')\n",
    "\n",
    "# # build the inferencer with model config name\n",
    "# inferencer = MMPoseInferencer('td-hm_hrnet-w32_8xb64-210e_coco-256x192')\n",
    "\n",
    "# build the inferencer with model config path and checkpoint path/URL\n",
    "inferencer2d = MMPoseInferencer(\n",
    "    pose2d='configs/body_2d_keypoint/topdown_heatmap/coco/' \\\n",
    "           'td-hm_hrnet-w32_8xb64-210e_coco-256x192.py',\n",
    "    pose2d_weights='https://download.openmmlab.com/mmpose/top_down/' \\\n",
    "                   'hrnet/hrnet_w32_coco_256x192-c78dce93_20200708.pth'\n",
    ")"
   ]
  },
  {
   "cell_type": "code",
   "execution_count": 50,
   "metadata": {},
   "outputs": [
    {
     "name": "stdout",
     "output_type": "stream",
     "text": [
      "07/12 23:22:06 - mmengine - \u001b[4m\u001b[97mINFO\u001b[0m - the output video has been saved at output/visualizations\\prep_bright_tap.mp4\n"
     ]
    }
   ],
   "source": [
    "from mmpose.apis import MMPoseInferencer\n",
    "import cv2\n",
    "os.environ['KMP_DUPLICATE_LIB_OK']='True'\n",
    "\n",
    "video_path = 'data/prep_bright_tap.mp4'\n",
    "result_generator = inferencer2d(video_path, show=False, out_dir='output')\n",
    "results = [result for result in result_generator]"
   ]
  },
  {
   "cell_type": "code",
   "execution_count": 69,
   "metadata": {},
   "outputs": [],
   "source": [
    "# 키포인트 추출\n",
    "import json\n",
    "\n",
    "def plot_2dkeypoints(json_file,type,frame_number = None):\n",
    "    if type == 'image':\n",
    "        keypoints = json.load(open(json_file))[0]['keypoints']\n",
    "    elif type == 'video':\n",
    "        keypoints = json.load(open(json_file))[frame_number]['instances'][0]['keypoints']\n",
    "    \n",
    "    x = [kp[0] for kp in keypoints]\n",
    "    y = [kp[1] for kp in keypoints]\n",
    "    \n",
    "    # 3D 플롯 생성\n",
    "    fig = plt.figure()\n",
    "    ax = fig.add_subplot(111)\n",
    "    \n",
    "    # 키포인트 플로팅\n",
    "    ax.scatter(x, y, c='r', marker='o')\n",
    "    \n",
    "    # 축 레이블 설정\n",
    "    ax.set_xlabel('X Label')\n",
    "    ax.set_ylabel('Y Label')\n",
    "    \n",
    "    # 축 범위 설정 (실제 공간 사이즈에 맞게 조정)\n",
    "    plt.show()"
   ]
  },
  {
   "cell_type": "code",
   "execution_count": 70,
   "metadata": {},
   "outputs": [
    {
     "data": {
      "image/png": "[encoded data removed]",
      "text/plain": [
       "<Figure size 640x480 with 1 Axes>"
      ]
     },
     "metadata": {},
     "output_type": "display_data"
    }
   ],
   "source": [
    "json_file2 = r'C:\\Users\\ckim0024\\Project\\mmpose\\output\\predictions\\prep_bright_tap_2d.json'\n",
    "plot_2dkeypoints(json_file2,'video',10)"
   ]
  }
 ],
 "metadata": {
  "kernelspec": {
   "display_name": "openmmlab",
   "language": "python",
   "name": "python3"
  },
  "language_info": {
   "codemirror_mode": {
    "name": "ipython",
    "version": 3
   },
   "file_extension": ".py",
   "mimetype": "text/x-python",
   "name": "python",
   "nbconvert_exporter": "python",
   "pygments_lexer": "ipython3",
   "version": "3.8.19"
  }
 },
 "nbformat": 4,
 "nbformat_minor": 2
}
